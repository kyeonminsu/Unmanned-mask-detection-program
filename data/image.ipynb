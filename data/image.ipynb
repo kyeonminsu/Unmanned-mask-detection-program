{
 "cells": [
  {
   "cell_type": "code",
   "execution_count": 1,
   "metadata": {},
   "outputs": [],
   "source": [
    "import face_recognition\n",
    "from PIL import Image, ImageFile\n",
    "import dlib\n",
    "import numpy as np"
   ]
  },
  {
   "cell_type": "code",
   "execution_count": 2,
   "metadata": {},
   "outputs": [],
   "source": [
    "#mask = Image.open(\"blue-mask.png\")\n",
    "#image = Image.open(\"0.jpg\")\n",
    "\n",
    "#얼굴이미지를 로드한다.\n",
    "face_image_np = face_recognition.load_image_file(\"img/son.jpg\")"
   ]
  },
  {
   "cell_type": "code",
   "execution_count": 3,
   "metadata": {},
   "outputs": [],
   "source": [
    "# 얼굴을 추출한다.\n",
    "#model = 'hog'\n",
    "face_locations = face_recognition.face_locations(face_image_np)"
   ]
  },
  {
   "cell_type": "code",
   "execution_count": 4,
   "metadata": {},
   "outputs": [],
   "source": [
    "#얼굴 랜드마크를 추출한다.\n",
    "face_landmarks = face_recognition.face_landmarks(face_image_np, face_locations)"
   ]
  },
  {
   "cell_type": "code",
   "execution_count": 5,
   "metadata": {},
   "outputs": [],
   "source": [
    "face_img = Image.fromarray(face_image_np)\n",
    "mask_img = Image.open(\"mask_image/mask.png\")\n",
    "#face_img.show()\n",
    "#mask_img.show()"
   ]
  },
  {
   "cell_type": "code",
   "execution_count": 6,
   "metadata": {},
   "outputs": [
    {
     "name": "stdout",
     "output_type": "stream",
     "text": [
      "test\n"
     ]
    }
   ],
   "source": [
    "for face_landmark in face_landmarks:\n",
    "    print(\"test\")"
   ]
  },
  {
   "cell_type": "code",
   "execution_count": 7,
   "metadata": {},
   "outputs": [
    {
     "name": "stdout",
     "output_type": "stream",
     "text": [
      "콧등 좌표 개수 :  [(1057, 695), (1059, 779), (1060, 863), (1063, 947)]\n",
      "콧등 평균 좌표 :  (1059, 779)\n"
     ]
    }
   ],
   "source": [
    "#콧등\n",
    "nose_bridge = face_landmark['nose_bridge']\n",
    "print(\"콧등 좌표 개수 : \",nose_bridge)\n",
    "nose_point = nose_bridge[len(nose_bridge) * 1 // 4]\n",
    "print(\"콧등 평균 좌표 : \",nose_point)\n",
    "nose_v = np.array(nose_point)"
   ]
  },
  {
   "cell_type": "code",
   "execution_count": 8,
   "metadata": {},
   "outputs": [
    {
     "name": "stdout",
     "output_type": "stream",
     "text": [
      "턱 좌표 개수 :  17\n",
      "턱 하관 좌표 :  (1090, 1375)\n",
      "턱 왼쪽 좌표 :  (676, 950)\n",
      "턱 오른쪽 좌표 :  (1480, 922)\n"
     ]
    }
   ],
   "source": [
    "#턱\n",
    "chin = face_landmark['chin']\n",
    "chin_len = len(chin)\n",
    "print(\"턱 좌표 개수 : \",chin_len)\n",
    "chin_bottom_point = chin[chin_len // 2]\n",
    "print(\"턱 하관 좌표 : \",chin_bottom_point)\n",
    "chin_bottom_v = np.array(chin_bottom_point)\n",
    "chin_left_point = chin[chin_len // 8]\n",
    "print(\"턱 왼쪽 좌표 : \",chin_left_point)\n",
    "chin_right_point = chin[chin_len * 7 // 8]\n",
    "print(\"턱 오른쪽 좌표 : \",chin_right_point)"
   ]
  },
  {
   "cell_type": "code",
   "execution_count": 9,
   "metadata": {},
   "outputs": [
    {
     "name": "stdout",
     "output_type": "stream",
     "text": [
      "콧등y-턱하관y :  596\n"
     ]
    }
   ],
   "source": [
    "# split mask and resize\n",
    "width = mask_img.width\n",
    "height = mask_img.height\n",
    "width_ratio = 1.2\n",
    "new_height = int(np.linalg.norm(nose_v - chin_bottom_v))\n",
    "print(\"콧등y-턱하관y : \",new_height)"
   ]
  },
  {
   "cell_type": "code",
   "execution_count": 10,
   "metadata": {},
   "outputs": [],
   "source": [
    "def get_distance_from_point_to_line(point, line_point1, line_point2):\n",
    "        distance = np.abs( (line_point2[1] - line_point1[1]) * point[0] +\n",
    "                          (line_point1[0] - line_point2[0]) * point[1] +\n",
    "                          (line_point2[0] - line_point1[0]) * line_point1[1] +\n",
    "                          (line_point1[1] - line_point2[1]) * line_point1[0]) / \\\n",
    "                   np.sqrt((line_point2[1] - line_point1[1]) * (line_point2[1] - line_point1[1]) +\n",
    "                           (line_point1[0] - line_point2[0]) * (line_point1[0] - line_point2[0]))\n",
    "        return int(distance)"
   ]
  },
  {
   "cell_type": "code",
   "execution_count": 11,
   "metadata": {},
   "outputs": [
    {
     "name": "stdout",
     "output_type": "stream",
     "text": [
      "왼쪽 마스크 너비: 391\n",
      "비율 왼쪽 마스크 너비 :  469\n"
     ]
    }
   ],
   "source": [
    "# left\n",
    "mask_left_img = mask_img.crop((0, 0, width // 2, height))\n",
    "#mask_left_img.show()\n",
    "mask_left_width = get_distance_from_point_to_line(chin_left_point, nose_point, chin_bottom_point)\n",
    "print(\"왼쪽 마스크 너비:\",mask_left_width)\n",
    "mask_left_width = int(mask_left_width * width_ratio)\n",
    "print(\"비율 왼쪽 마스크 너비 : \",mask_left_width)\n",
    "mask_left_img = mask_left_img.resize((mask_left_width, new_height))\n",
    "#mask_left_img.show()"
   ]
  },
  {
   "cell_type": "code",
   "execution_count": 12,
   "metadata": {},
   "outputs": [
    {
     "name": "stdout",
     "output_type": "stream",
     "text": [
      "오른쪽 마스크 너비 : 413\n",
      "비율 오른쪽 마스크 너비 : 495\n"
     ]
    }
   ],
   "source": [
    "# right\n",
    "mask_right_img = mask_img.crop((width // 2, 0, width, height))\n",
    "mask_right_width = get_distance_from_point_to_line(chin_right_point, nose_point, chin_bottom_point)\n",
    "print(\"오른쪽 마스크 너비 :\",mask_right_width)\n",
    "mask_right_width = int(mask_right_width * width_ratio)\n",
    "print(\"비율 오른쪽 마스크 너비 :\",mask_right_width)\n",
    "mask_right_img = mask_right_img.resize((mask_right_width, new_height))"
   ]
  },
  {
   "cell_type": "code",
   "execution_count": 13,
   "metadata": {},
   "outputs": [
    {
     "name": "stdout",
     "output_type": "stream",
     "text": [
      "size :  (964, 596)\n"
     ]
    }
   ],
   "source": [
    "# merge mask\n",
    "size = (mask_left_img.width + mask_right_img.width, new_height)\n",
    "print(\"size : \",size)\n",
    "mask_img = Image.new('RGBA', size)\n",
    "mask_img.paste(mask_left_img, (0, 0), mask_left_img)\n",
    "mask_img.paste(mask_right_img, (mask_left_img.width, 0), mask_right_img)"
   ]
  },
  {
   "cell_type": "code",
   "execution_count": 14,
   "metadata": {},
   "outputs": [],
   "source": [
    "# rotate mask\n",
    "angle = np.arctan2(chin_bottom_point[1] - nose_point[1], chin_bottom_point[0] - nose_point[0])\n",
    "rotated_mask_img = mask_img.rotate(angle, expand=True)\n",
    "#otated_mask_img.show()"
   ]
  },
  {
   "cell_type": "code",
   "execution_count": 15,
   "metadata": {},
   "outputs": [
    {
     "name": "stdout",
     "output_type": "stream",
     "text": [
      "center_x, :  1074\n",
      "center_y, :  1077\n"
     ]
    }
   ],
   "source": [
    "# calculate mask location\n",
    "center_x = (nose_point[0] + chin_bottom_point[0]) // 2\n",
    "print(\"center_x, : \", center_x)\n",
    "center_y = (nose_point[1] + chin_bottom_point[1]) // 2\n",
    "print(\"center_y, : \", center_y)"
   ]
  },
  {
   "cell_type": "code",
   "execution_count": 16,
   "metadata": {},
   "outputs": [
    {
     "name": "stdout",
     "output_type": "stream",
     "text": [
      "offset :  13\n",
      "radian :  0.026508579628891173\n",
      "box_x :  596\n",
      "box_y :  766\n"
     ]
    }
   ],
   "source": [
    "offset = mask_img.width // 2 - mask_left_img.width\n",
    "print(\"offset : \", offset)\n",
    "radian = angle * np.pi / 180\n",
    "print(\"radian : \", radian)\n",
    "box_x = center_x + int(offset * np.cos(radian)) - rotated_mask_img.width // 2\n",
    "print(\"box_x : \", box_x)\n",
    "box_y = center_y + int(offset * np.sin(radian)) - rotated_mask_img.height // 2\n",
    "print(\"box_y : \", box_y)"
   ]
  },
  {
   "cell_type": "code",
   "execution_count": 17,
   "metadata": {},
   "outputs": [],
   "source": [
    "# add mask\n",
    "face_img.paste(mask_img, (box_x, box_y), mask_img)\n",
    "merge_face_mask:ImageFile = None\n",
    "merge_face_mask=face_img\n",
    "merge_face_mask.show()\n",
    "merge_face_mask.save('so123.jpg')"
   ]
  },
  {
   "cell_type": "code",
   "execution_count": null,
   "metadata": {},
   "outputs": [],
   "source": []
  }
 ],
 "metadata": {
  "kernelspec": {
   "display_name": "Python 3",
   "language": "python",
   "name": "python3"
  },
  "language_info": {
   "codemirror_mode": {
    "name": "ipython",
    "version": 3
   },
   "file_extension": ".py",
   "mimetype": "text/x-python",
   "name": "python",
   "nbconvert_exporter": "python",
   "pygments_lexer": "ipython3",
   "version": "3.6.13"
  }
 },
 "nbformat": 4,
 "nbformat_minor": 4
}
