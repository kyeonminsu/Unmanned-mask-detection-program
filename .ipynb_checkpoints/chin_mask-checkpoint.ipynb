{
 "cells": [
  {
   "cell_type": "code",
   "execution_count": 2,
   "id": "damaged-determination",
   "metadata": {},
   "outputs": [],
   "source": [
    "import face_recognition\n",
    "from PIL import Image, ImageFile\n",
    "import dlib\n",
    "import numpy as np"
   ]
  },
  {
   "cell_type": "code",
   "execution_count": 3,
   "id": "corresponding-documentation",
   "metadata": {},
   "outputs": [],
   "source": [
    "#얼굴이미지를 로드한다.\n",
    "face_image_np = face_recognition.load_image_file(\"img/son.jpg\")"
   ]
  },
  {
   "cell_type": "code",
   "execution_count": 4,
   "id": "worst-business",
   "metadata": {},
   "outputs": [],
   "source": [
    "# 얼굴을 추출한다.\n",
    "face_locations = face_recognition.face_locations(face_image_np)"
   ]
  },
  {
   "cell_type": "code",
   "execution_count": 5,
   "id": "accomplished-administrator",
   "metadata": {},
   "outputs": [],
   "source": [
    "#얼굴 랜드마크를 추출한다.\n",
    "face_landmarks = face_recognition.face_landmarks(face_image_np, face_locations)"
   ]
  },
  {
   "cell_type": "code",
   "execution_count": 6,
   "id": "d74547e8",
   "metadata": {},
   "outputs": [],
   "source": [
    "face_img = Image.fromarray(face_image_np)\n",
    "mask_img = Image.open(\"mask_image/mask.png\")"
   ]
  },
  {
   "cell_type": "code",
   "execution_count": 7,
   "id": "43d25bae",
   "metadata": {},
   "outputs": [
    {
     "name": "stdout",
     "output_type": "stream",
     "text": [
      "test\n"
     ]
    }
   ],
   "source": [
    "for face_landmark in face_landmarks:\n",
    "    print(\"test\")"
   ]
  },
  {
   "cell_type": "code",
   "execution_count": 8,
   "id": "ae804e87",
   "metadata": {},
   "outputs": [
    {
     "name": "stdout",
     "output_type": "stream",
     "text": [
      "아래 입술 좌표 개수 :  [(231, 257), (224, 267), (217, 273), (209, 274), (202, 273), (193, 268), (186, 256), (191, 257), (202, 259), (209, 260), (216, 259), (226, 257)]\n",
      "아래 입술 평균 좌표 :  (224, 267)\n"
     ]
    }
   ],
   "source": [
    "#아래입술좌표\n",
    "bottom_lip = face_landmark['bottom_lip']\n",
    "print(\"아래 입술 좌표 개수 : \",bottom_lip)\n",
    "bottom_lip = bottom_lip[len(bottom_lip) * 1 // 12]\n",
    "print(\"아래 입술 평균 좌표 : \",bottom_lip)\n",
    "bottom_lip_v = np.array(bottom_lip)"
   ]
  },
  {
   "cell_type": "code",
   "execution_count": 17,
   "id": "8fdb717f",
   "metadata": {},
   "outputs": [
    {
     "name": "stdout",
     "output_type": "stream",
     "text": [
      "[(135, 183), (137, 202), (140, 221), (143, 240), (148, 258), (159, 276), (173, 291), (190, 303), (210, 306), (229, 303), (246, 291), (260, 276), (270, 259), (275, 240), (276, 221), (278, 202), (280, 184)]\n",
      "----------------------------\n",
      "턱 좌표 개수 :  17\n",
      "----------------------------\n",
      "턱 하관(목) 좌표 :  [210 326]\n",
      "----------------------------\n",
      "턱 왼쪽 좌표 :  (148, 258)\n",
      "----------------------------\n",
      "턱 오른쪽 좌표 :  (270, 259)\n"
     ]
    }
   ],
   "source": [
    "#턱좌표\n",
    "chin = face_landmark['chin']\n",
    "print(face_landmark['chin'])\n",
    "print(\"----------------------------\")\n",
    "chin_len = len(chin)\n",
    "print(\"턱 좌표 개수 : \",chin_len)\n",
    "print(\"----------------------------\")\n",
    "chin_bottom_point = chin[chin_len // 2]\n",
    "chin_bottom_v = np.array(chin_bottom_point)\n",
    "chin_bottom_v[1]=chin_bottom_v[1]+20\n",
    "print(\"턱 하관(목) 좌표 : \",chin_bottom_v)\n",
    "print(\"----------------------------\")\n",
    "chin_left_point = chin[4]\n",
    "print(\"턱 왼쪽 좌표 : \",chin_left_point)\n",
    "print(\"----------------------------\")\n",
    "chin_right_point = chin[12]\n",
    "print(\"턱 오른쪽 좌표 : \",chin_right_point)"
   ]
  },
  {
   "cell_type": "code",
   "execution_count": null,
   "id": "13bf0b69",
   "metadata": {},
   "outputs": [],
   "source": []
  }
 ],
 "metadata": {
  "kernelspec": {
   "display_name": "Python 3",
   "language": "python",
   "name": "python3"
  },
  "language_info": {
   "codemirror_mode": {
    "name": "ipython",
    "version": 3
   },
   "file_extension": ".py",
   "mimetype": "text/x-python",
   "name": "python",
   "nbconvert_exporter": "python",
   "pygments_lexer": "ipython3",
   "version": "3.6.13"
  }
 },
 "nbformat": 4,
 "nbformat_minor": 5
}
