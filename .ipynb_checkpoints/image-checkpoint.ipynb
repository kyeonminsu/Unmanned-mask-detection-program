{
 "cells": [
  {
   "cell_type": "code",
   "execution_count": 2,
   "metadata": {},
   "outputs": [],
   "source": [
    "import face_recognition\n",
    "from PIL import Image, ImageFile\n",
    "import dlib\n",
    "import numpy as np"
   ]
  },
  {
   "cell_type": "code",
   "execution_count": 3,
   "metadata": {},
   "outputs": [],
   "source": [
    "#mask = Image.open(\"blue-mask.png\")\n",
    "#image = Image.open(\"0.jpg\")\n",
    "\n",
    "#얼굴이미지를 로드한다.\n",
    "face_image_np = face_recognition.load_image_file(\"0.jpg\")"
   ]
  },
  {
   "cell_type": "code",
   "execution_count": 4,
   "metadata": {},
   "outputs": [],
   "source": [
    "# 얼굴을 추출한다.\n",
    "#model = 'hog'\n",
    "face_locations = face_recognition.face_locations(face_image_np)"
   ]
  },
  {
   "cell_type": "code",
   "execution_count": 5,
   "metadata": {},
   "outputs": [],
   "source": [
    "#얼굴 랜드마크를 추출한다.\n",
    "face_landmarks = face_recognition.face_landmarks(face_image_np, face_locations)"
   ]
  },
  {
   "cell_type": "code",
   "execution_count": 6,
   "metadata": {},
   "outputs": [
    {
     "name": "stdout",
     "output_type": "stream",
     "text": [
      "[{'chin': [(54, 64), (55, 71), (56, 78), (58, 85), (61, 91), (66, 97), (71, 102), (77, 106), (84, 107), (91, 106), (97, 102), (103, 96), (107, 90), (110, 84), (112, 76), (112, 69), (112, 61)], 'left_eyebrow': [(57, 59), (60, 55), (64, 53), (69, 53), (74, 54)], 'right_eyebrow': [(85, 53), (91, 51), (97, 50), (103, 51), (107, 55)], 'nose_bridge': [(80, 61), (80, 66), (80, 72), (80, 77)], 'nose_tip': [(75, 79), (78, 80), (81, 81), (84, 80), (88, 78)], 'left_eye': [(62, 62), (65, 60), (70, 60), (73, 63), (69, 64), (65, 64)], 'right_eye': [(89, 62), (92, 58), (97, 57), (101, 59), (98, 61), (93, 62)], 'top_lip': [(70, 85), (74, 84), (78, 83), (82, 84), (86, 83), (91, 83), (97, 83), (95, 84), (86, 85), (82, 86), (78, 85), (72, 85)], 'bottom_lip': [(97, 83), (92, 90), (87, 93), (83, 94), (79, 93), (74, 91), (70, 85), (72, 85), (78, 90), (82, 90), (86, 90), (95, 84)]}]\n"
     ]
    }
   ],
   "source": [
    "print(face_landmarks)"
   ]
  },
  {
   "cell_type": "code",
   "execution_count": 8,
   "metadata": {},
   "outputs": [],
   "source": [
    "face_img = Image.fromarray(face_image_np)\n",
    "mask_img = Image.open(\"blue-mask.png\")\n",
    "#face_img.show()\n",
    "#mask_img.show()"
   ]
  },
  {
   "cell_type": "code",
   "execution_count": 9,
   "metadata": {},
   "outputs": [
    {
     "name": "stdout",
     "output_type": "stream",
     "text": [
      "test\n"
     ]
    }
   ],
   "source": [
    "for face_landmark in face_landmarks:\n",
    "    print(\"test\")"
   ]
  },
  {
   "cell_type": "code",
   "execution_count": 17,
   "metadata": {},
   "outputs": [
    {
     "name": "stdout",
     "output_type": "stream",
     "text": [
      "콧등 좌표 출력 :  [(80, 61), (80, 66), (80, 72), (80, 77)]\n",
      "콧등 좌표 평균 :  (80, 66)\n",
      "콧등 좌표 평균 넘파이 배열 :  [80 66]\n"
     ]
    }
   ],
   "source": [
    "#콧등\n",
    "nose_bridge = face_landmark['nose_bridge']\n",
    "print(\"콧등 좌표 출력 : \",nose_bridge)\n",
    "nose_point = nose_bridge[len(nose_bridge) * 1 // 4]\n",
    "print(\"콧등 좌표 평균 : \",nose_point)\n",
    "nose_v = np.array(nose_point)\n",
    "print(\"콧등 좌표 평균 넘파이 배열 : \",nose_v)"
   ]
  },
  {
   "cell_type": "code",
   "execution_count": 20,
   "metadata": {},
   "outputs": [
    {
     "name": "stdout",
     "output_type": "stream",
     "text": [
      "턱 좌표 개수 :  17\n",
      "턱 바텀 좌표:  (84, 107)\n",
      "턱 왼쪽 좌표:  (56, 78)\n",
      "턱 오른쪽 좌표:  (112, 76)\n"
     ]
    }
   ],
   "source": [
    "#턱\n",
    "chin = face_landmark['chin']\n",
    "chin_len = len(chin)\n",
    "print(\"턱 좌표 개수 : \",chin_len)\n",
    "chin_bottom_point = chin[chin_len // 2]\n",
    "print(\"턱 바텀 좌표: \",chin_bottom_point)\n",
    "chin_bottom_v = np.array(chin_bottom_point)\n",
    "chin_left_point = chin[chin_len // 8]\n",
    "print(\"턱 왼쪽 좌표: \",chin_left_point)\n",
    "chin_right_point = chin[chin_len * 7 // 8]\n",
    "print(\"턱 오른쪽 좌표: \",chin_right_point)"
   ]
  },
  {
   "cell_type": "code",
   "execution_count": 37,
   "metadata": {},
   "outputs": [],
   "source": [
    "# split mask and resize\n",
    "width = mask_img.width\n",
    "height = mask_img.height\n",
    "width_ratio = 1.2\n",
    "new_height = int(np.linalg.norm(nose_v - chin_bottom_v))"
   ]
  },
  {
   "cell_type": "code",
   "execution_count": 38,
   "metadata": {},
   "outputs": [],
   "source": [
    "def get_distance_from_point_to_line(point, line_point1, line_point2):\n",
    "        distance = np.abs((line_point2[1] - line_point1[1]) * point[0] +\n",
    "                          (line_point1[0] - line_point2[0]) * point[1] +\n",
    "                          (line_point2[0] - line_point1[0]) * line_point1[1] +\n",
    "                          (line_point1[1] - line_point2[1]) * line_point1[0]) / \\\n",
    "                   np.sqrt((line_point2[1] - line_point1[1]) * (line_point2[1] - line_point1[1]) +\n",
    "                           (line_point1[0] - line_point2[0]) * (line_point1[0] - line_point2[0]))\n",
    "        return int(distance)"
   ]
  },
  {
   "cell_type": "code",
   "execution_count": 39,
   "metadata": {},
   "outputs": [],
   "source": [
    "# left\n",
    "mask_left_img = mask_img.crop((0, 0, width // 2, height))\n",
    "mask_left_width = get_distance_from_point_to_line(chin_left_point, nose_point, chin_bottom_point)\n",
    "mask_left_width = int(mask_left_width * width_ratio)\n",
    "mask_left_img = mask_left_img.resize((mask_left_width, new_height))"
   ]
  },
  {
   "cell_type": "code",
   "execution_count": 40,
   "metadata": {},
   "outputs": [],
   "source": [
    "# right\n",
    "mask_right_img = mask_img.crop((width // 2, 0, width, height))\n",
    "mask_right_width = get_distance_from_point_to_line(chin_right_point, nose_point, chin_bottom_point)\n",
    "mask_right_width = int(mask_right_width * width_ratio)\n",
    "mask_right_img = mask_right_img.resize((mask_right_width, new_height))"
   ]
  },
  {
   "cell_type": "code",
   "execution_count": 41,
   "metadata": {},
   "outputs": [],
   "source": [
    "# merge mask\n",
    "size = (mask_left_img.width + mask_right_img.width, new_height)\n",
    "mask_img = Image.new('RGBA', size)\n",
    "mask_img.paste(mask_left_img, (0, 0), mask_left_img)\n",
    "mask_img.paste(mask_right_img, (mask_left_img.width, 0), mask_right_img)"
   ]
  },
  {
   "cell_type": "code",
   "execution_count": 42,
   "metadata": {},
   "outputs": [],
   "source": [
    "# rotate mask\n",
    "angle = np.arctan2(chin_bottom_point[1] - nose_point[1], chin_bottom_point[0] - nose_point[0])\n",
    "rotated_mask_img = mask_img.rotate(angle, expand=True)"
   ]
  },
  {
   "cell_type": "code",
   "execution_count": 55,
   "metadata": {},
   "outputs": [],
   "source": [
    "# calculate mask location\n",
    "center_x = (nose_point[0] + chin_bottom_point[0]) // 2\n",
    "center_y = (nose_point[1] + chin_bottom_point[1]) // 2\n",
    "\n",
    "offset = mask_img.width // 2 - mask_left_img.width\n",
    "radian = angle * np.pi / 180\n",
    "box_x = center_x + int(offset * np.cos(radian)) - rotated_mask_img.width // 2\n",
    "box_y = center_y + int(offset * np.sin(radian)) - rotated_mask_img.height // 2\n",
    "\n",
    "# add mask\n",
    "face_img.paste(mask_img, (box_x, box_y), mask_img)"
   ]
  },
  {
   "cell_type": "code",
   "execution_count": 56,
   "metadata": {},
   "outputs": [],
   "source": [
    "merge_face_mask:ImageFile = None\n",
    "merge_face_mask=face_img\n",
    "merge_face_mask.show()"
   ]
  },
  {
   "cell_type": "code",
   "execution_count": null,
   "metadata": {},
   "outputs": [],
   "source": []
  }
 ],
 "metadata": {
  "kernelspec": {
   "display_name": "Python 3",
   "language": "python",
   "name": "python3"
  },
  "language_info": {
   "codemirror_mode": {
    "name": "ipython",
    "version": 3
   },
   "file_extension": ".py",
   "mimetype": "text/x-python",
   "name": "python",
   "nbconvert_exporter": "python",
   "pygments_lexer": "ipython3",
   "version": "3.8.5"
  }
 },
 "nbformat": 4,
 "nbformat_minor": 4
}
