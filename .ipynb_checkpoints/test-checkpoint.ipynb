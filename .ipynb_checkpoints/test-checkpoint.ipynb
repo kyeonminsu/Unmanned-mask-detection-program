{
 "cells": [
  {
   "cell_type": "code",
   "execution_count": 1,
   "id": "spoken-millennium",
   "metadata": {},
   "outputs": [],
   "source": [
    "import tensorflow as tf "
   ]
  },
  {
   "cell_type": "code",
   "execution_count": 2,
   "id": "bibliographic-vector",
   "metadata": {},
   "outputs": [
    {
     "name": "stdout",
     "output_type": "stream",
     "text": [
      "WARNING:tensorflow:From <ipython-input-2-1ea44c535baa>:1: is_gpu_available (from tensorflow.python.framework.test_util) is deprecated and will be removed in a future version.\n",
      "Instructions for updating:\n",
      "Use `tf.config.list_physical_devices('GPU')` instead.\n",
      "True\n"
     ]
    }
   ],
   "source": [
    "gpu=tf.test.is_gpu_available()   \n",
    "#gpu=tf.config.list_physical_devices('GPU')\n",
    "print(gpu)"
   ]
  },
  {
   "cell_type": "code",
   "execution_count": 3,
   "id": "respective-garden",
   "metadata": {},
   "outputs": [
    {
     "name": "stdout",
     "output_type": "stream",
     "text": [
      "[name: \"/device:CPU:0\"\n",
      "device_type: \"CPU\"\n",
      "memory_limit: 268435456\n",
      "locality {\n",
      "}\n",
      "incarnation: 2195634088400255081\n",
      ", name: \"/device:GPU:0\"\n",
      "device_type: \"GPU\"\n",
      "memory_limit: 11000905728\n",
      "locality {\n",
      "  bus_id: 1\n",
      "  links {\n",
      "  }\n",
      "}\n",
      "incarnation: 11010510772801316792\n",
      "physical_device_desc: \"device: 0, name: GeForce RTX 3060, pci bus id: 0000:2b:00.0, compute capability: 8.6\"\n",
      "]\n"
     ]
    }
   ],
   "source": [
    "from tensorflow.python.client import device_lib\n",
    "\n",
    "print(device_lib.list_local_devices())"
   ]
  },
  {
   "cell_type": "code",
   "execution_count": 4,
   "id": "complete-binding",
   "metadata": {},
   "outputs": [
    {
     "name": "stdout",
     "output_type": "stream",
     "text": [
      "2.4.0\n"
     ]
    }
   ],
   "source": [
    "print(tf.__version__)"
   ]
  },
  {
   "cell_type": "code",
   "execution_count": 5,
   "id": "severe-peninsula",
   "metadata": {},
   "outputs": [],
   "source": [
    "import dlib"
   ]
  },
  {
   "cell_type": "code",
   "execution_count": 6,
   "id": "verbal-service",
   "metadata": {},
   "outputs": [],
   "source": [
    "import face_recognition"
   ]
  },
  {
   "cell_type": "code",
   "execution_count": 7,
   "id": "billion-empire",
   "metadata": {},
   "outputs": [
    {
     "name": "stdout",
     "output_type": "stream",
     "text": [
      "3.6.13 |Anaconda, Inc.| (default, Mar 16 2021, 11:37:27) [MSC v.1916 64 bit (AMD64)]\n"
     ]
    }
   ],
   "source": [
    "import sys\n",
    "print(sys.version)"
   ]
  },
  {
   "cell_type": "code",
   "execution_count": 8,
   "id": "continued-denmark",
   "metadata": {},
   "outputs": [],
   "source": [
    "import face_recognition\n",
    "from PIL import Image, ImageFile\n",
    "import dlib\n",
    "import numpy as np"
   ]
  },
  {
   "cell_type": "code",
   "execution_count": null,
   "id": "exterior-basis",
   "metadata": {},
   "outputs": [],
   "source": [
    "face_image_np = face_recognition.load_image_file(\"img/son.jpg\")"
   ]
  },
  {
   "cell_type": "code",
   "execution_count": null,
   "id": "actual-civilian",
   "metadata": {},
   "outputs": [],
   "source": [
    "face_locations = face_recognition.face_locations(face_image_np)"
   ]
  },
  {
   "cell_type": "code",
   "execution_count": null,
   "id": "facial-irish",
   "metadata": {},
   "outputs": [],
   "source": [
    "face_landmarks = face_recognition.face_landmarks(face_image_np, face_locations)"
   ]
  },
  {
   "cell_type": "code",
   "execution_count": null,
   "id": "seasonal-survivor",
   "metadata": {},
   "outputs": [],
   "source": [
    "for face_landmark in face_landmarks:\n",
    "    print(\"test\")"
   ]
  },
  {
   "cell_type": "code",
   "execution_count": null,
   "id": "subsequent-comment",
   "metadata": {},
   "outputs": [],
   "source": [
    "chin = face_landmark['chin']"
   ]
  },
  {
   "cell_type": "code",
   "execution_count": null,
   "id": "sharp-movement",
   "metadata": {},
   "outputs": [],
   "source": [
    "print(chin)"
   ]
  },
  {
   "cell_type": "code",
   "execution_count": null,
   "id": "empirical-stomach",
   "metadata": {},
   "outputs": [],
   "source": [
    "print(chin[0])  #4,12,8"
   ]
  },
  {
   "cell_type": "code",
   "execution_count": null,
   "id": "filled-invasion",
   "metadata": {},
   "outputs": [],
   "source": [
    "face_img = Image.fromarray(face_image_np)\n",
    "mask_img = Image.open(\"mask_image/mask1.png\")"
   ]
  },
  {
   "cell_type": "code",
   "execution_count": null,
   "id": "upset-fitness",
   "metadata": {},
   "outputs": [],
   "source": [
    "face_img.paste(mask_img, (500, 500), mask_img)\n",
    "merge_face_mask:ImageFile = None\n",
    "merge_face_mask=face_img\n",
    "merge_face_mask.show()"
   ]
  },
  {
   "cell_type": "code",
   "execution_count": null,
   "id": "sealed-clearance",
   "metadata": {},
   "outputs": [],
   "source": []
  }
 ],
 "metadata": {
  "kernelspec": {
   "display_name": "Python 3",
   "language": "python",
   "name": "python3"
  },
  "language_info": {
   "codemirror_mode": {
    "name": "ipython",
    "version": 3
   },
   "file_extension": ".py",
   "mimetype": "text/x-python",
   "name": "python",
   "nbconvert_exporter": "python",
   "pygments_lexer": "ipython3",
   "version": "3.6.13"
  }
 },
 "nbformat": 4,
 "nbformat_minor": 5
}
