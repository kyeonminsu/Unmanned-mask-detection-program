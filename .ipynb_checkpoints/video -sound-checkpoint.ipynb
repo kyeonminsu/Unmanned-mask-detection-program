{
 "cells": [
  {
   "cell_type": "code",
   "execution_count": 1,
   "id": "signal-contamination",
   "metadata": {},
   "outputs": [
    {
     "name": "stdout",
     "output_type": "stream",
     "text": [
      "pygame 2.0.1 (SDL 2.0.14, Python 3.6.13)\n",
      "Hello from the pygame community. https://www.pygame.org/contribute.html\n"
     ]
    }
   ],
   "source": [
    "# tensorflow 2+\n",
    "from tensorflow.keras.applications.mobilenet_v2 import preprocess_input\n",
    "from tensorflow.keras.models import load_model\n",
    "import numpy as np\n",
    "import cv2\n",
    "import matplotlib.pyplot as plt\n",
    "import os\n",
    "import threading\n",
    "import pygame\n",
    "import time "
   ]
  },
  {
   "cell_type": "code",
   "execution_count": 2,
   "id": "2645f078",
   "metadata": {},
   "outputs": [],
   "source": [
    "pygame.mixer.init()\n",
    "mySound = pygame.mixer.Sound( \"img/mask2.wav\" )\n",
    "mySound.set_volume(0.7)\n",
    "global flag\n",
    "flag = False\n",
    "\n",
    "def sound():\n",
    "    print(\"3\")\n",
    "    mySound.play()\n",
    "    time.sleep(2)\n",
    "    flag = False\n",
    "    print(\"4\")\n",
    "    \n",
    "t = threading.Thread(target=sound)"
   ]
  },
  {
   "cell_type": "code",
   "execution_count": 3,
   "id": "lightweight-developer",
   "metadata": {},
   "outputs": [],
   "source": [
    "facenet = cv2.dnn.readNet('models/deploy.prototxt', 'models/res10_300x300_ssd_iter_140000.caffemodel')\n",
    "model = load_model('models/chin_mask.h5')"
   ]
  },
  {
   "cell_type": "code",
   "execution_count": 4,
   "id": "outside-zoning",
   "metadata": {},
   "outputs": [],
   "source": [
    "cap = cv2.VideoCapture('img/soja1.mp4')\n",
    "ret, img = cap.read()\n",
    "\n",
    "fourcc = cv2.VideoWriter_fourcc('m', 'p', '4', 'v')\n",
    "out = cv2.VideoWriter('output.mp4', fourcc, cap.get(cv2.CAP_PROP_FPS), (img.shape[1], img.shape[0]))"
   ]
  },
  {
   "cell_type": "code",
   "execution_count": 5,
   "id": "gentle-commission",
   "metadata": {},
   "outputs": [],
   "source": [
    "def f2(x):\n",
    "    return x[1]"
   ]
  },
  {
   "cell_type": "code",
   "execution_count": 6,
   "id": "satisfied-croatia",
   "metadata": {},
   "outputs": [],
   "source": [
    "d=dict()"
   ]
  },
  {
   "cell_type": "code",
   "execution_count": 7,
   "id": "guided-northeast",
   "metadata": {},
   "outputs": [
    {
     "name": "stdout",
     "output_type": "stream",
     "text": [
      "2\n",
      "3\n",
      "2\n"
     ]
    },
    {
     "ename": "RuntimeError",
     "evalue": "threads can only be started once",
     "output_type": "error",
     "traceback": [
      "\u001b[1;31m---------------------------------------------------------------------------\u001b[0m",
      "\u001b[1;31mRuntimeError\u001b[0m                              Traceback (most recent call last)",
      "\u001b[1;32m<ipython-input-7-7b49e845a2e2>\u001b[0m in \u001b[0;36m<module>\u001b[1;34m\u001b[0m\n\u001b[0;32m     54\u001b[0m             \u001b[1;32mif\u001b[0m\u001b[1;33m(\u001b[0m\u001b[0mflag\u001b[0m\u001b[1;33m==\u001b[0m\u001b[1;32mFalse\u001b[0m\u001b[1;33m)\u001b[0m\u001b[1;33m:\u001b[0m\u001b[1;33m\u001b[0m\u001b[1;33m\u001b[0m\u001b[0m\n\u001b[0;32m     55\u001b[0m                 \u001b[0mprint\u001b[0m\u001b[1;33m(\u001b[0m\u001b[1;34m\"2\"\u001b[0m\u001b[1;33m)\u001b[0m\u001b[1;33m\u001b[0m\u001b[1;33m\u001b[0m\u001b[0m\n\u001b[1;32m---> 56\u001b[1;33m                 \u001b[0mt\u001b[0m\u001b[1;33m.\u001b[0m\u001b[0mstart\u001b[0m\u001b[1;33m(\u001b[0m\u001b[1;33m)\u001b[0m\u001b[1;33m\u001b[0m\u001b[1;33m\u001b[0m\u001b[0m\n\u001b[0m\u001b[0;32m     57\u001b[0m \u001b[1;33m\u001b[0m\u001b[0m\n\u001b[0;32m     58\u001b[0m \u001b[1;33m\u001b[0m\u001b[0m\n",
      "\u001b[1;32mD:\\Anaconda\\envs\\minsu\\lib\\threading.py\u001b[0m in \u001b[0;36mstart\u001b[1;34m(self)\u001b[0m\n\u001b[0;32m    840\u001b[0m \u001b[1;33m\u001b[0m\u001b[0m\n\u001b[0;32m    841\u001b[0m         \u001b[1;32mif\u001b[0m \u001b[0mself\u001b[0m\u001b[1;33m.\u001b[0m\u001b[0m_started\u001b[0m\u001b[1;33m.\u001b[0m\u001b[0mis_set\u001b[0m\u001b[1;33m(\u001b[0m\u001b[1;33m)\u001b[0m\u001b[1;33m:\u001b[0m\u001b[1;33m\u001b[0m\u001b[1;33m\u001b[0m\u001b[0m\n\u001b[1;32m--> 842\u001b[1;33m             \u001b[1;32mraise\u001b[0m \u001b[0mRuntimeError\u001b[0m\u001b[1;33m(\u001b[0m\u001b[1;34m\"threads can only be started once\"\u001b[0m\u001b[1;33m)\u001b[0m\u001b[1;33m\u001b[0m\u001b[1;33m\u001b[0m\u001b[0m\n\u001b[0m\u001b[0;32m    843\u001b[0m         \u001b[1;32mwith\u001b[0m \u001b[0m_active_limbo_lock\u001b[0m\u001b[1;33m:\u001b[0m\u001b[1;33m\u001b[0m\u001b[1;33m\u001b[0m\u001b[0m\n\u001b[0;32m    844\u001b[0m             \u001b[0m_limbo\u001b[0m\u001b[1;33m[\u001b[0m\u001b[0mself\u001b[0m\u001b[1;33m]\u001b[0m \u001b[1;33m=\u001b[0m \u001b[0mself\u001b[0m\u001b[1;33m\u001b[0m\u001b[1;33m\u001b[0m\u001b[0m\n",
      "\u001b[1;31mRuntimeError\u001b[0m: threads can only be started once"
     ]
    },
    {
     "name": "stdout",
     "output_type": "stream",
     "text": [
      "4\n"
     ]
    }
   ],
   "source": [
    "flag=False\n",
    "\n",
    "while cap.isOpened():\n",
    "    ret, img = cap.read()\n",
    "    if not ret:\n",
    "        break\n",
    "        \n",
    "    h, w = img.shape[:2]\n",
    "\n",
    "    blob = cv2.dnn.blobFromImage(img, scalefactor=1., size=(300, 300), mean=(104., 177., 123.))\n",
    "    facenet.setInput(blob)\n",
    "    dets = facenet.forward()\n",
    "\n",
    "    result_img = img.copy()\n",
    "\n",
    "    for i in range(dets.shape[2]):\n",
    "        confidence = dets[0, 0, i, 2]\n",
    "        if confidence < 0.5:\n",
    "            continue\n",
    "\n",
    "        x1 = int(dets[0, 0, i, 3] * w)\n",
    "        y1 = int(dets[0, 0, i, 4] * h)\n",
    "        x2 = int(dets[0, 0, i, 5] * w)\n",
    "        y2 = int(dets[0, 0, i, 6] * h)\n",
    "        \n",
    "        face = img[y1:y2, x1:x2]\n",
    "\n",
    "        face_input = cv2.resize(face, dsize=(224, 224))\n",
    "        face_input = cv2.cvtColor(face_input, cv2.COLOR_BGR2RGB)\n",
    "        face_input = preprocess_input(face_input)\n",
    "        face_input = np.expand_dims(face_input, axis=0)\n",
    "        \n",
    "        chin_mask, mask, nomask = model.predict(face_input).squeeze()\n",
    "        \n",
    "        #d['black']=black\n",
    "        d['chin_mask']=chin_mask\n",
    "        d['mask']=mask\n",
    "        d['nomask']=nomask\n",
    "        s=sorted(d.items(), key=f2, reverse=True)\n",
    "\n",
    "        if(d['mask']==s[0][1]):\n",
    "            color = (0, 255, 0)\n",
    "            label = 'Mask %d%%' % (mask * 100)   \n",
    "        elif(d['nomask']==s[0][1]):\n",
    "            color = (0, 0, 255)\n",
    "            label = 'No Mask %d%%' % (nomask * 100)\n",
    "            if(flag==False):\n",
    "                print(\"1\")\n",
    "                flag=True\n",
    "                t.start()\n",
    "        else:\n",
    "            color = (0, 0, 255)\n",
    "            label = 'No Mask %d%%' % (chin_mask * 100)\n",
    "            if(flag==False):\n",
    "                print(\"2\")\n",
    "                flag=True\n",
    "                t.start()\n",
    "\n",
    "        \n",
    "        cv2.rectangle(result_img, pt1=(x1, y1), pt2=(x2, y2), thickness=2, color=color, lineType=cv2.LINE_AA)\n",
    "        cv2.putText(result_img, text=label, org=(x1, y1 - 10), fontFace=cv2.FONT_HERSHEY_SIMPLEX, fontScale=0.8, color=color, thickness=2, lineType=cv2.LINE_AA)\n",
    "\n",
    "    out.write(result_img)\n",
    "    cv2.imshow('result', result_img)\n",
    "    if cv2.waitKey(1) == ord('q'):\n",
    "        break\n",
    "\n",
    "print(\"end\")\n",
    "cv2.destroyAllWindows()\n",
    "out.release()\n",
    "cap.release()"
   ]
  },
  {
   "cell_type": "code",
   "execution_count": null,
   "id": "coordinate-logging",
   "metadata": {},
   "outputs": [],
   "source": []
  }
 ],
 "metadata": {
  "kernelspec": {
   "display_name": "Python 3",
   "language": "python",
   "name": "python3"
  },
  "language_info": {
   "codemirror_mode": {
    "name": "ipython",
    "version": 3
   },
   "file_extension": ".py",
   "mimetype": "text/x-python",
   "name": "python",
   "nbconvert_exporter": "python",
   "pygments_lexer": "ipython3",
   "version": "3.6.13"
  }
 },
 "nbformat": 4,
 "nbformat_minor": 5
}
