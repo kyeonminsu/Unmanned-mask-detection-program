{
 "cells": [
  {
   "cell_type": "code",
   "execution_count": 1,
   "id": "damaged-determination",
   "metadata": {},
   "outputs": [],
   "source": [
    "import face_recognition\n",
    "from PIL import Image, ImageFile\n",
    "import dlib\n",
    "import numpy as np"
   ]
  },
  {
   "cell_type": "code",
   "execution_count": 2,
   "id": "corresponding-documentation",
   "metadata": {},
   "outputs": [],
   "source": [
    "#얼굴이미지를 로드한다.\n",
    "face_image_np = face_recognition.load_image_file(\"img/soja.png\")"
   ]
  },
  {
   "cell_type": "code",
   "execution_count": 3,
   "id": "worst-business",
   "metadata": {},
   "outputs": [],
   "source": [
    "# 얼굴을 추출한다.\n",
    "face_locations = face_recognition.face_locations(face_image_np)"
   ]
  },
  {
   "cell_type": "code",
   "execution_count": 4,
   "id": "accomplished-administrator",
   "metadata": {},
   "outputs": [],
   "source": [
    "#얼굴 랜드마크를 추출한다.\n",
    "face_landmarks = face_recognition.face_landmarks(face_image_np, face_locations)"
   ]
  },
  {
   "cell_type": "code",
   "execution_count": 5,
   "id": "d74547e8",
   "metadata": {},
   "outputs": [],
   "source": [
    "face_img = Image.fromarray(face_image_np)\n",
    "mask_img = Image.open(\"mask_image/mask1.png\")"
   ]
  },
  {
   "cell_type": "code",
   "execution_count": 6,
   "id": "43d25bae",
   "metadata": {},
   "outputs": [
    {
     "name": "stdout",
     "output_type": "stream",
     "text": [
      "test\n"
     ]
    }
   ],
   "source": [
    "for face_landmark in face_landmarks:\n",
    "    print(\"test\")"
   ]
  },
  {
   "cell_type": "code",
   "execution_count": 7,
   "id": "ae804e87",
   "metadata": {},
   "outputs": [
    {
     "name": "stdout",
     "output_type": "stream",
     "text": [
      "아래 입술 좌표 개수 :  [(110, 98), (105, 104), (99, 106), (96, 106), (92, 106), (87, 104), (80, 100), (83, 100), (91, 100), (95, 100), (99, 100), (108, 99)]\n",
      "아래 입술 평균 좌표 :  (105, 104)\n"
     ]
    }
   ],
   "source": [
    "#아래입술좌표\n",
    "bottom_lip = face_landmark['bottom_lip']\n",
    "print(\"아래 입술 좌표 개수 : \",bottom_lip)\n",
    "bottom_lip = bottom_lip[len(bottom_lip) * 1 // 12]\n",
    "print(\"아래 입술 평균 좌표 : \",bottom_lip)\n",
    "bottom_lip_v = np.array(bottom_lip)"
   ]
  },
  {
   "cell_type": "code",
   "execution_count": 8,
   "id": "8fdb717f",
   "metadata": {},
   "outputs": [
    {
     "name": "stdout",
     "output_type": "stream",
     "text": [
      "[(56, 65), (57, 74), (59, 84), (61, 92), (66, 100), (71, 107), (79, 114), (87, 119), (96, 120), (104, 119), (112, 114), (119, 107), (124, 100), (128, 91), (130, 81), (130, 71), (130, 61)]\n",
      "----------------------------\n",
      "턱 좌표 개수 :  17\n",
      "----------------------------\n",
      "턱 하관(목) 좌표 :  [ 96 135]\n",
      "----------------------------\n",
      "턱 왼쪽 좌표 :  (66, 100)\n",
      "----------------------------\n",
      "턱 오른쪽 좌표 :  (124, 100)\n"
     ]
    }
   ],
   "source": [
    "#턱좌표\n",
    "chin = face_landmark['chin']\n",
    "print(face_landmark['chin'])\n",
    "print(\"----------------------------\")\n",
    "chin_len = len(chin)\n",
    "print(\"턱 좌표 개수 : \",chin_len)\n",
    "print(\"----------------------------\")\n",
    "chin_bottom_point = chin[chin_len // 2]\n",
    "chin_bottom_v = np.array(chin_bottom_point)\n",
    "chin_bottom_v[1]=chin_bottom_v[1]+15\n",
    "print(\"턱 하관(목) 좌표 : \",chin_bottom_v)\n",
    "print(\"----------------------------\")\n",
    "chin_left_point = chin[4]\n",
    "print(\"턱 왼쪽 좌표 : \",chin_left_point)\n",
    "print(\"----------------------------\")\n",
    "chin_right_point = chin[12]\n",
    "print(\"턱 오른쪽 좌표 : \",chin_right_point)"
   ]
  },
  {
   "cell_type": "code",
   "execution_count": 9,
   "id": "13bf0b69",
   "metadata": {},
   "outputs": [
    {
     "name": "stdout",
     "output_type": "stream",
     "text": [
      "아래 입술y-턱하관y :  32\n"
     ]
    }
   ],
   "source": [
    "# split mask and resize\n",
    "width = mask_img.width\n",
    "height = mask_img.height\n",
    "width_ratio = 1.2\n",
    "new_height = int(np.linalg.norm(bottom_lip_v - chin_bottom_v))\n",
    "print(\"아래 입술y-턱하관y : \",new_height)"
   ]
  },
  {
   "cell_type": "code",
   "execution_count": 10,
   "id": "8bea0025",
   "metadata": {},
   "outputs": [],
   "source": [
    "def get_distance_from_point_to_line(point, line_point1, line_point2):\n",
    "        distance = np.abs( (line_point2[1] - line_point1[1]) * point[0] +\n",
    "                          (line_point1[0] - line_point2[0]) * point[1] +\n",
    "                          (line_point2[0] - line_point1[0]) * line_point1[1] +\n",
    "                          (line_point1[1] - line_point2[1]) * line_point1[0]) / \\\n",
    "                   np.sqrt((line_point2[1] - line_point1[1]) * (line_point2[1] - line_point1[1]) +\n",
    "                           (line_point1[0] - line_point2[0]) * (line_point1[0] - line_point2[0]))\n",
    "        return int(distance)"
   ]
  },
  {
   "cell_type": "code",
   "execution_count": 11,
   "id": "83e831d9",
   "metadata": {},
   "outputs": [
    {
     "name": "stdout",
     "output_type": "stream",
     "text": [
      "왼쪽 마스크 너비: 35\n",
      "비율 왼쪽 마스크 너비 :  42\n"
     ]
    }
   ],
   "source": [
    "# left\n",
    "mask_left_img = mask_img.crop((0, 0, width // 2, height))\n",
    "\n",
    "#mask_left_img.show()\n",
    "mask_left_width = get_distance_from_point_to_line(chin_left_point, bottom_lip, chin_bottom_point)\n",
    "\n",
    "print(\"왼쪽 마스크 너비:\",mask_left_width)\n",
    "mask_left_width = int(mask_left_width * width_ratio)\n",
    "print(\"비율 왼쪽 마스크 너비 : \",mask_left_width)\n",
    "mask_left_img = mask_left_img.resize((mask_left_width, new_height))\n",
    "#mask_left_img.show()"
   ]
  },
  {
   "cell_type": "code",
   "execution_count": 12,
   "id": "72714689",
   "metadata": {},
   "outputs": [
    {
     "name": "stdout",
     "output_type": "stream",
     "text": [
      "오른쪽 마스크 너비 : 14\n",
      "비율 오른쪽 마스크 너비 : 16\n"
     ]
    }
   ],
   "source": [
    "# right\n",
    "mask_right_img = mask_img.crop((width // 2, 0, width, height))\n",
    "mask_right_width = get_distance_from_point_to_line(chin_right_point, bottom_lip, chin_bottom_point)\n",
    "\n",
    "print(\"오른쪽 마스크 너비 :\",mask_right_width)\n",
    "mask_right_width = int(mask_right_width * width_ratio)\n",
    "print(\"비율 오른쪽 마스크 너비 :\",mask_right_width)\n",
    "mask_right_img = mask_right_img.resize((mask_right_width, new_height))"
   ]
  },
  {
   "cell_type": "code",
   "execution_count": 13,
   "id": "5541a65e",
   "metadata": {},
   "outputs": [
    {
     "name": "stdout",
     "output_type": "stream",
     "text": [
      "size :  (58, 32)\n"
     ]
    }
   ],
   "source": [
    "# merge mask\n",
    "size = (mask_left_img.width + mask_right_img.width, new_height)\n",
    "print(\"size : \",size)\n",
    "mask_img = Image.new('RGBA', size)\n",
    "mask_img.paste(mask_left_img, (0, 0), mask_left_img)\n",
    "mask_img.paste(mask_right_img, (mask_left_img.width, 0), mask_right_img)\n",
    "#mask_img.show()"
   ]
  },
  {
   "cell_type": "code",
   "execution_count": 14,
   "id": "aad56407",
   "metadata": {},
   "outputs": [],
   "source": [
    "# rotate mask\n",
    "angle = np.arctan2(chin_bottom_point[1] - bottom_lip[1], chin_bottom_point[0] - bottom_lip[0])\n",
    "rotated_mask_img = mask_img.rotate(angle, expand=True)\n",
    "#rotated_mask_img.show()"
   ]
  },
  {
   "cell_type": "code",
   "execution_count": 15,
   "id": "4c370531",
   "metadata": {},
   "outputs": [
    {
     "name": "stdout",
     "output_type": "stream",
     "text": [
      "center_x, :  100\n",
      "center_y, :  112\n"
     ]
    }
   ],
   "source": [
    "# calculate mask location\n",
    "center_x = (bottom_lip[0] + chin_bottom_point[0]) // 2\n",
    "print(\"center_x, : \", center_x)\n",
    "center_y = (bottom_lip[1] + chin_bottom_point[1]) // 2\n",
    "print(\"center_y, : \", center_y)"
   ]
  },
  {
   "cell_type": "code",
   "execution_count": 16,
   "id": "b2d5ec3d",
   "metadata": {},
   "outputs": [
    {
     "name": "stdout",
     "output_type": "stream",
     "text": [
      "offset :  -13\n",
      "radian :  0.036358450915742954\n",
      "box_x :  58\n",
      "box_y :  94\n"
     ]
    }
   ],
   "source": [
    "offset = mask_img.width // 2 - mask_left_img.width\n",
    "print(\"offset : \", offset)\n",
    "radian = angle * np.pi / 180\n",
    "print(\"radian : \", radian)\n",
    "box_x = center_x + int(offset * np.cos(radian)) - rotated_mask_img.width // 2\n",
    "print(\"box_x : \", box_x)\n",
    "box_y = center_y + int(offset * np.sin(radian)) - rotated_mask_img.height // 2\n",
    "print(\"box_y : \", box_y)"
   ]
  },
  {
   "cell_type": "code",
   "execution_count": 17,
   "id": "550f13e7",
   "metadata": {},
   "outputs": [],
   "source": [
    "box_x = box_x+ 7\n",
    "#box_y = box_y+30\n",
    "face_img.paste(mask_img, (box_x, box_y), mask_img)\n",
    "merge_face_mask:ImageFile = None\n",
    "merge_face_mask=face_img\n",
    "merge_face_mask.show()"
   ]
  },
  {
   "cell_type": "code",
   "execution_count": null,
   "id": "8eff714d",
   "metadata": {},
   "outputs": [],
   "source": []
  }
 ],
 "metadata": {
  "kernelspec": {
   "display_name": "Python 3",
   "language": "python",
   "name": "python3"
  },
  "language_info": {
   "codemirror_mode": {
    "name": "ipython",
    "version": 3
   },
   "file_extension": ".py",
   "mimetype": "text/x-python",
   "name": "python",
   "nbconvert_exporter": "python",
   "pygments_lexer": "ipython3",
   "version": "3.6.13"
  }
 },
 "nbformat": 4,
 "nbformat_minor": 5
}
